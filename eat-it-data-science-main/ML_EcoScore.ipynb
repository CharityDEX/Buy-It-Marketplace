{
 "cells": [
  {
   "cell_type": "code",
   "execution_count": 5,
   "metadata": {},
   "outputs": [],
   "source": [
    "import numpy as np \n",
    "import pandas as pd "
   ]
  },
  {
   "cell_type": "code",
   "execution_count": 6,
   "metadata": {},
   "outputs": [],
   "source": [
    "data2 = pd.read_csv(\"/Users/dakosh/Downloads/en.openfoodfacts.org.products.csv\", sep = '\\t', nrows = 10)"
   ]
  },
  {
   "cell_type": "code",
   "execution_count": 7,
   "metadata": {},
   "outputs": [
    {
     "data": {
      "text/plain": [
       "['code',\n",
       " 'url',\n",
       " 'creator',\n",
       " 'created_t',\n",
       " 'created_datetime',\n",
       " 'last_modified_t',\n",
       " 'last_modified_datetime',\n",
       " 'last_modified_by',\n",
       " 'product_name',\n",
       " 'abbreviated_product_name',\n",
       " 'generic_name',\n",
       " 'quantity',\n",
       " 'packaging',\n",
       " 'packaging_tags',\n",
       " 'packaging_en',\n",
       " 'packaging_text',\n",
       " 'brands',\n",
       " 'brands_tags',\n",
       " 'categories',\n",
       " 'categories_tags',\n",
       " 'categories_en',\n",
       " 'origins',\n",
       " 'origins_tags',\n",
       " 'origins_en',\n",
       " 'manufacturing_places',\n",
       " 'manufacturing_places_tags',\n",
       " 'labels',\n",
       " 'labels_tags',\n",
       " 'labels_en',\n",
       " 'emb_codes',\n",
       " 'emb_codes_tags',\n",
       " 'first_packaging_code_geo',\n",
       " 'cities',\n",
       " 'cities_tags',\n",
       " 'purchase_places',\n",
       " 'stores',\n",
       " 'countries',\n",
       " 'countries_tags',\n",
       " 'countries_en',\n",
       " 'ingredients_text',\n",
       " 'ingredients_tags',\n",
       " 'ingredients_analysis_tags',\n",
       " 'allergens',\n",
       " 'allergens_en',\n",
       " 'traces',\n",
       " 'traces_tags',\n",
       " 'traces_en',\n",
       " 'serving_size',\n",
       " 'serving_quantity',\n",
       " 'no_nutrition_data',\n",
       " 'additives_n',\n",
       " 'additives',\n",
       " 'additives_tags',\n",
       " 'additives_en',\n",
       " 'nutriscore_score',\n",
       " 'nutriscore_grade',\n",
       " 'nova_group',\n",
       " 'pnns_groups_1',\n",
       " 'pnns_groups_2',\n",
       " 'food_groups',\n",
       " 'food_groups_tags',\n",
       " 'food_groups_en',\n",
       " 'states',\n",
       " 'states_tags',\n",
       " 'states_en',\n",
       " 'brand_owner',\n",
       " 'ecoscore_score',\n",
       " 'ecoscore_grade',\n",
       " 'nutrient_levels_tags',\n",
       " 'product_quantity',\n",
       " 'owner',\n",
       " 'data_quality_errors_tags',\n",
       " 'unique_scans_n',\n",
       " 'popularity_tags',\n",
       " 'completeness',\n",
       " 'last_image_t',\n",
       " 'last_image_datetime',\n",
       " 'main_category',\n",
       " 'main_category_en',\n",
       " 'image_url',\n",
       " 'image_small_url',\n",
       " 'image_ingredients_url',\n",
       " 'image_ingredients_small_url',\n",
       " 'image_nutrition_url',\n",
       " 'image_nutrition_small_url',\n",
       " 'energy-kj_100g',\n",
       " 'energy-kcal_100g',\n",
       " 'energy_100g',\n",
       " 'energy-from-fat_100g',\n",
       " 'fat_100g',\n",
       " 'saturated-fat_100g',\n",
       " 'butyric-acid_100g',\n",
       " 'caproic-acid_100g',\n",
       " 'caprylic-acid_100g',\n",
       " 'capric-acid_100g',\n",
       " 'lauric-acid_100g',\n",
       " 'myristic-acid_100g',\n",
       " 'palmitic-acid_100g',\n",
       " 'stearic-acid_100g',\n",
       " 'arachidic-acid_100g',\n",
       " 'behenic-acid_100g',\n",
       " 'lignoceric-acid_100g',\n",
       " 'cerotic-acid_100g',\n",
       " 'montanic-acid_100g',\n",
       " 'melissic-acid_100g',\n",
       " 'unsaturated-fat_100g',\n",
       " 'monounsaturated-fat_100g',\n",
       " 'polyunsaturated-fat_100g',\n",
       " 'omega-3-fat_100g',\n",
       " 'alpha-linolenic-acid_100g',\n",
       " 'eicosapentaenoic-acid_100g',\n",
       " 'docosahexaenoic-acid_100g',\n",
       " 'omega-6-fat_100g',\n",
       " 'linoleic-acid_100g',\n",
       " 'arachidonic-acid_100g',\n",
       " 'gamma-linolenic-acid_100g',\n",
       " 'dihomo-gamma-linolenic-acid_100g',\n",
       " 'omega-9-fat_100g',\n",
       " 'oleic-acid_100g',\n",
       " 'elaidic-acid_100g',\n",
       " 'gondoic-acid_100g',\n",
       " 'mead-acid_100g',\n",
       " 'erucic-acid_100g',\n",
       " 'nervonic-acid_100g',\n",
       " 'trans-fat_100g',\n",
       " 'cholesterol_100g',\n",
       " 'carbohydrates_100g',\n",
       " 'sugars_100g',\n",
       " 'added-sugars_100g',\n",
       " 'sucrose_100g',\n",
       " 'glucose_100g',\n",
       " 'fructose_100g',\n",
       " 'lactose_100g',\n",
       " 'maltose_100g',\n",
       " 'maltodextrins_100g',\n",
       " 'starch_100g',\n",
       " 'polyols_100g',\n",
       " 'erythritol_100g',\n",
       " 'fiber_100g',\n",
       " 'soluble-fiber_100g',\n",
       " 'insoluble-fiber_100g',\n",
       " 'proteins_100g',\n",
       " 'casein_100g',\n",
       " 'serum-proteins_100g',\n",
       " 'nucleotides_100g',\n",
       " 'salt_100g',\n",
       " 'added-salt_100g',\n",
       " 'sodium_100g',\n",
       " 'alcohol_100g',\n",
       " 'vitamin-a_100g',\n",
       " 'beta-carotene_100g',\n",
       " 'vitamin-d_100g',\n",
       " 'vitamin-e_100g',\n",
       " 'vitamin-k_100g',\n",
       " 'vitamin-c_100g',\n",
       " 'vitamin-b1_100g',\n",
       " 'vitamin-b2_100g',\n",
       " 'vitamin-pp_100g',\n",
       " 'vitamin-b6_100g',\n",
       " 'vitamin-b9_100g',\n",
       " 'folates_100g',\n",
       " 'vitamin-b12_100g',\n",
       " 'biotin_100g',\n",
       " 'pantothenic-acid_100g',\n",
       " 'silica_100g',\n",
       " 'bicarbonate_100g',\n",
       " 'potassium_100g',\n",
       " 'chloride_100g',\n",
       " 'calcium_100g',\n",
       " 'phosphorus_100g',\n",
       " 'iron_100g',\n",
       " 'magnesium_100g',\n",
       " 'zinc_100g',\n",
       " 'copper_100g',\n",
       " 'manganese_100g',\n",
       " 'fluoride_100g',\n",
       " 'selenium_100g',\n",
       " 'chromium_100g',\n",
       " 'molybdenum_100g',\n",
       " 'iodine_100g',\n",
       " 'caffeine_100g',\n",
       " 'taurine_100g',\n",
       " 'ph_100g',\n",
       " 'fruits-vegetables-nuts_100g',\n",
       " 'fruits-vegetables-nuts-dried_100g',\n",
       " 'fruits-vegetables-nuts-estimate_100g',\n",
       " 'fruits-vegetables-nuts-estimate-from-ingredients_100g',\n",
       " 'collagen-meat-protein-ratio_100g',\n",
       " 'cocoa_100g',\n",
       " 'chlorophyl_100g',\n",
       " 'carbon-footprint_100g',\n",
       " 'carbon-footprint-from-meat-or-fish_100g',\n",
       " 'nutrition-score-fr_100g',\n",
       " 'nutrition-score-uk_100g',\n",
       " 'glycemic-index_100g',\n",
       " 'water-hardness_100g',\n",
       " 'choline_100g',\n",
       " 'phylloquinone_100g',\n",
       " 'beta-glucan_100g',\n",
       " 'inositol_100g',\n",
       " 'carnitine_100g']"
      ]
     },
     "execution_count": 7,
     "metadata": {},
     "output_type": "execute_result"
    }
   ],
   "source": [
    "data2.columns.tolist()"
   ]
  },
  {
   "cell_type": "code",
   "execution_count": 8,
   "metadata": {},
   "outputs": [],
   "source": [
    "columns_final = ['code','generic_name','carbon-footprint-from-meat-or-fish_100g',  'carbon-footprint_100g', 'main_category',\n",
    " 'main_category_en', 'owner', 'states','states_tags','states_en','brand_owner', 'ecoscore_score',\n",
    "'ecoscore_grade', 'nova_group','pnns_groups_1','pnns_groups_2','food_groups',\n",
    " 'food_groups_tags','food_groups_en',  'first_packaging_code_geo','cities','cities_tags','purchase_places',\n",
    " 'stores', 'countries','countries_tags','countries_en',  'packaging','packaging_tags','packaging_en','packaging_text',\n",
    " 'brands','brands_tags','categories','categories_tags','categories_en','origins','origins_tags','origins_en','manufacturing_places','manufacturing_places_tags',\n",
    "'labels','labels_tags','labels_en','emb_codes', 'emb_codes_tags']"
   ]
  },
  {
   "cell_type": "code",
   "execution_count": 9,
   "metadata": {},
   "outputs": [
    {
     "name": "stderr",
     "output_type": "stream",
     "text": [
      "/var/folders/b_/mgwfywyx4dq0q3m_1rfy4rkh0000gn/T/ipykernel_81513/3533475586.py:1: DtypeWarning: Columns (0,15,21,22,23,24,25,29,30,31,33,65,70) have mixed types. Specify dtype option on import or set low_memory=False.\n",
      "  df = pd.read_csv('/Users/dakosh/Downloads/en.openfoodfacts.org.products.csv', sep = '\\t', usecols=columns_final)\n"
     ]
    }
   ],
   "source": [
    "df = pd.read_csv('/Users/dakosh/Downloads/en.openfoodfacts.org.products.csv', sep = '\\t', usecols=columns_final)"
   ]
  },
  {
   "cell_type": "code",
   "execution_count": 10,
   "metadata": {},
   "outputs": [
    {
     "data": {
      "text/plain": [
       "(2809009, 46)"
      ]
     },
     "execution_count": 10,
     "metadata": {},
     "output_type": "execute_result"
    }
   ],
   "source": [
    "df.shape"
   ]
  },
  {
   "cell_type": "code",
   "execution_count": 11,
   "metadata": {},
   "outputs": [
    {
     "data": {
      "text/plain": [
       "['code',\n",
       " 'generic_name',\n",
       " 'packaging',\n",
       " 'packaging_tags',\n",
       " 'packaging_en',\n",
       " 'packaging_text',\n",
       " 'brands',\n",
       " 'brands_tags',\n",
       " 'categories',\n",
       " 'categories_tags',\n",
       " 'categories_en',\n",
       " 'origins',\n",
       " 'origins_tags',\n",
       " 'origins_en',\n",
       " 'manufacturing_places',\n",
       " 'manufacturing_places_tags',\n",
       " 'labels',\n",
       " 'labels_tags',\n",
       " 'labels_en',\n",
       " 'emb_codes',\n",
       " 'emb_codes_tags',\n",
       " 'first_packaging_code_geo',\n",
       " 'cities',\n",
       " 'cities_tags',\n",
       " 'purchase_places',\n",
       " 'stores',\n",
       " 'countries',\n",
       " 'countries_tags',\n",
       " 'countries_en',\n",
       " 'nova_group',\n",
       " 'pnns_groups_1',\n",
       " 'pnns_groups_2',\n",
       " 'food_groups',\n",
       " 'food_groups_tags',\n",
       " 'food_groups_en',\n",
       " 'states',\n",
       " 'states_tags',\n",
       " 'states_en',\n",
       " 'brand_owner',\n",
       " 'ecoscore_score',\n",
       " 'ecoscore_grade',\n",
       " 'owner',\n",
       " 'main_category',\n",
       " 'main_category_en',\n",
       " 'carbon-footprint_100g',\n",
       " 'carbon-footprint-from-meat-or-fish_100g']"
      ]
     },
     "execution_count": 11,
     "metadata": {},
     "output_type": "execute_result"
    }
   ],
   "source": [
    "df.columns.tolist()"
   ]
  },
  {
   "cell_type": "code",
   "execution_count": 25,
   "metadata": {},
   "outputs": [
    {
     "name": "stdout",
     "output_type": "stream",
     "text": [
      "percentage of values missing for carbon footprint from meat or fish column: 99.55016164063554%\n",
      "percentage of values missing for carbon footprint_100g column: 99.98269852463983%\n"
     ]
    }
   ],
   "source": [
    "percentage_missing_1 = df['carbon-footprint-from-meat-or-fish_100g'].isnull().mean() * 100\n",
    "percentage_missing_1\n",
    "percentage_missing_2 = df['carbon-footprint_100g'].isnull().mean() * 100\n",
    "print(f'percentage of values missing for carbon footprint from meat or fish column: {percentage_missing_1}%')\n",
    "print(f'percentage of values missing for carbon footprint_100g column: {percentage_missing_2}%')"
   ]
  },
  {
   "cell_type": "code",
   "execution_count": 13,
   "metadata": {},
   "outputs": [],
   "source": [
    "df_cleaned = df.dropna(subset=['carbon-footprint_100g' ], how='all') "
   ]
  },
  {
   "cell_type": "code",
   "execution_count": 14,
   "metadata": {},
   "outputs": [
    {
     "data": {
      "text/plain": [
       "(486, 46)"
      ]
     },
     "execution_count": 14,
     "metadata": {},
     "output_type": "execute_result"
    }
   ],
   "source": [
    "df_cleaned.shape"
   ]
  },
  {
   "cell_type": "code",
   "execution_count": 15,
   "metadata": {},
   "outputs": [
    {
     "data": {
      "text/plain": [
       "count     486.000000\n",
       "mean      242.773595\n",
       "std       433.978880\n",
       "min         0.000000\n",
       "25%         0.000000\n",
       "50%       100.000000\n",
       "75%       295.275000\n",
       "max      5000.000000\n",
       "Name: carbon-footprint_100g, dtype: float64"
      ]
     },
     "execution_count": 15,
     "metadata": {},
     "output_type": "execute_result"
    }
   ],
   "source": [
    "df_cleaned['carbon-footprint_100g'].describe()"
   ]
  },
  {
   "cell_type": "code",
   "execution_count": 16,
   "metadata": {},
   "outputs": [
    {
     "data": {
      "text/plain": [
       "236546    500.0\n",
       "433930    100.0\n",
       "433935    100.0\n",
       "433947    100.0\n",
       "455039    100.0\n",
       "Name: carbon-footprint_100g, dtype: float64"
      ]
     },
     "execution_count": 16,
     "metadata": {},
     "output_type": "execute_result"
    }
   ],
   "source": [
    "df_cleaned['carbon-footprint_100g'].head()"
   ]
  },
  {
   "cell_type": "code",
   "execution_count": 17,
   "metadata": {},
   "outputs": [
    {
     "data": {
      "text/plain": [
       "30.246913580246915"
      ]
     },
     "execution_count": 17,
     "metadata": {},
     "output_type": "execute_result"
    }
   ],
   "source": [
    "missing_ecoscore = df_cleaned['ecoscore_score'].isnull().mean() * 100 \n",
    "missing_ecoscore"
   ]
  },
  {
   "cell_type": "code",
   "execution_count": 18,
   "metadata": {},
   "outputs": [
    {
     "data": {
      "text/plain": [
       "(339, 46)"
      ]
     },
     "execution_count": 18,
     "metadata": {},
     "output_type": "execute_result"
    }
   ],
   "source": [
    "df_cleaned = df_cleaned.dropna(subset=['ecoscore_score' ], how='all') \n",
    "df_cleaned.shape"
   ]
  },
  {
   "cell_type": "code",
   "execution_count": 19,
   "metadata": {},
   "outputs": [
    {
     "data": {
      "text/plain": [
       "(282, 46)"
      ]
     },
     "execution_count": 19,
     "metadata": {},
     "output_type": "execute_result"
    }
   ],
   "source": [
    "df_cleaned = df_cleaned[(df_cleaned['ecoscore_score'] >= 0) & (df_cleaned['ecoscore_score'] <= 100)]\n",
    "df_cleaned.shape"
   ]
  },
  {
   "cell_type": "code",
   "execution_count": 20,
   "metadata": {},
   "outputs": [
    {
     "name": "stdout",
     "output_type": "stream",
     "text": [
      "The correlation coefficient between variable1 and variable2 is: -0.2445402389352179\n"
     ]
    }
   ],
   "source": [
    "correlation = df_cleaned['ecoscore_score'].corr(df_cleaned['carbon-footprint_100g'])\n",
    "\n",
    "print(f'The correlation coefficient between variable1 and variable2 is: {correlation}')"
   ]
  },
  {
   "cell_type": "code",
   "execution_count": 21,
   "metadata": {},
   "outputs": [],
   "source": [
    "import seaborn as sns\n",
    "import matplotlib.pyplot as plt"
   ]
  },
  {
   "cell_type": "code",
   "execution_count": 22,
   "metadata": {},
   "outputs": [
    {
     "data": {
      "image/png": "[encoded data removed]",
      "text/plain": [
       "<Figure size 640x480 with 1 Axes>"
      ]
     },
     "metadata": {},
     "output_type": "display_data"
    }
   ],
   "source": [
    "sns.regplot(x='carbon-footprint_100g', y='ecoscore_score', data=df_cleaned)\n",
    "\n",
    "# Annotate the plot with the correlation coefficient\n",
    "plt.title(f'Scatter Plot with Regression Line\\nCorrelation: {correlation:.2f}')\n",
    "\n",
    "# Show the plot\n",
    "plt.show()"
   ]
  }
 ],
 "metadata": {
  "kernelspec": {
   "display_name": "base",
   "language": "python",
   "name": "python3"
  },
  "language_info": {
   "codemirror_mode": {
    "name": "ipython",
    "version": 3
   },
   "file_extension": ".py",
   "mimetype": "text/x-python",
   "name": "python",
   "nbconvert_exporter": "python",
   "pygments_lexer": "ipython3",
   "version": "3.10.14"
  }
 },
 "nbformat": 4,
 "nbformat_minor": 2
}
